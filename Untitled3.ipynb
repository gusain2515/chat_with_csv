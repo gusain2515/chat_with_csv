{
 "cells": [
  {
   "cell_type": "code",
   "execution_count": 166,
   "id": "c929c34c-7836-4647-b416-13de3b02875b",
   "metadata": {},
   "outputs": [],
   "source": [
    "from langchain.document_loaders.csv_loader import CSVLoader\n",
    "from langchain.text_splitter import RecursiveCharacterTextSplitter\n",
    "from langchain.embeddings import HuggingFaceEmbeddings\n",
    "from langchain.vectorstores import FAISS\n",
    "from langchain.llms import CTransformers\n",
    "from langchain.memory import ConversationBufferMemory\n",
    "from langchain.chains import ConversationalRetrievalChain\n",
    "import sys"
   ]
  },
  {
   "cell_type": "code",
   "execution_count": 167,
   "id": "cfd53f53-878d-4515-8d29-28b643aa70f7",
   "metadata": {},
   "outputs": [],
   "source": [
    "import matplotlib.pyplot as plt\n",
    "import pandas as pd"
   ]
  },
  {
   "cell_type": "code",
   "execution_count": 168,
   "id": "d7552bb6-c7df-4080-a2bb-1f77a4bde3f0",
   "metadata": {},
   "outputs": [
    {
     "name": "stdout",
     "output_type": "stream",
     "text": [
      "<class 'list'>\n"
     ]
    }
   ],
   "source": [
    "DB_FAISS_PATH = \"vectorstore/db_faiss\"\n",
    "loader = CSVLoader(file_path=\"2019.csv\", encoding=\"utf-8\", csv_args={'delimiter': ','})\n",
    "data = loader.load()\n",
    "\n",
    "print(type(data))"
   ]
  },
  {
   "cell_type": "code",
   "execution_count": 169,
   "id": "1bdbef3b-50a6-42df-8bfa-0ecc49d2d2d6",
   "metadata": {},
   "outputs": [],
   "source": [
    "text_splitter = RecursiveCharacterTextSplitter(chunk_size=500, chunk_overlap=20)\n",
    "text_chunks = text_splitter.split_documents(data)"
   ]
  },
  {
   "cell_type": "code",
   "execution_count": 170,
   "id": "68bd5fc7-1774-4e02-9533-085565ed6de6",
   "metadata": {},
   "outputs": [],
   "source": [
    "embeddings = HuggingFaceEmbeddings(model_name = 'sentence-transformers/all-MiniLM-L6-v2')"
   ]
  },
  {
   "cell_type": "code",
   "execution_count": null,
   "id": "8f3d8956-a832-4f4c-9119-2d7df0ed968c",
   "metadata": {},
   "outputs": [],
   "source": []
  },
  {
   "cell_type": "code",
   "execution_count": 171,
   "id": "71a2e9b1-20de-4e1e-be1c-28f8a96b38b1",
   "metadata": {},
   "outputs": [],
   "source": [
    "docsearch = FAISS.from_documents(text_chunks, embeddings)\n",
    "\n",
    "docsearch.save_local(DB_FAISS_PATH)"
   ]
  },
  {
   "cell_type": "code",
   "execution_count": 172,
   "id": "0c1bb319-a06e-44cc-9103-c063b0d7c0bd",
   "metadata": {},
   "outputs": [],
   "source": [
    "\n",
    "llm = CTransformers(model=\"llama-2-7b-chat.ggmlv3.q4_K_M.bin\",\n",
    "                    model_type=\"llama\",\n",
    "                    max_new_tokens=2000,\n",
    "                    temperature=0.1)"
   ]
  },
  {
   "cell_type": "code",
   "execution_count": 173,
   "id": "b00c987b-9d26-49d2-a398-67b4930e6e5d",
   "metadata": {},
   "outputs": [],
   "source": [
    "\n",
    "qa = ConversationalRetrievalChain.from_llm(llm, retriever=docsearch.as_retriever())"
   ]
  },
  {
   "cell_type": "code",
   "execution_count": 174,
   "id": "4689f430-673e-440b-a019-45efdac78331",
   "metadata": {},
   "outputs": [
    {
     "data": {
      "text/plain": [
       "'def create_histogram(column_name):\\n   \\n    Creates and displays a histogram for the specified column.\\n\\n    plt.hist(data[column_name])\\n    plt.xlabel(column_name)\\n    plt.ylabel(\"Frequency\")\\n    plt.title(f\"Histogram of {column_name}\")\\n    plt.show()'"
      ]
     },
     "execution_count": 174,
     "metadata": {},
     "output_type": "execute_result"
    }
   ],
   "source": [
    "\"\"\"def create_histogram(column_name):\n",
    "   \n",
    "    Creates and displays a histogram for the specified column.\n",
    "\n",
    "    plt.hist(data[column_name])\n",
    "    plt.xlabel(column_name)\n",
    "    plt.ylabel(\"Frequency\")\n",
    "    plt.title(f\"Histogram of {column_name}\")\n",
    "    plt.show()\"\"\""
   ]
  },
  {
   "cell_type": "code",
   "execution_count": 175,
   "id": "e0506634-32b0-42e4-bcec-f5df1c256ca9",
   "metadata": {},
   "outputs": [
    {
     "data": {
      "text/plain": [
       "'def create_scatter_plot(x_column_name, y_column_name):\\n    \\n    Creates and displays a scatter plot for the specified columns.\\n  \\n    try:\\n        # Check if column names exist in the DataFrame\\n        if x_column_name not in data.columns or y_column_name not in data.columns:\\n            raise ValueError(f\"Columns \\'{x_column_name}\\' and \\'{y_column_name}\\' not found in data.\")\\n\\n        plt.scatter(data[x_column_name], data[y_column_name])\\n        plt.xlabel(x_column_name)\\n        plt.ylabel(y_column_name)\\n        plt.title(f\"Scatter Plot of {x_column_name} vs {y_column_name}\")\\n        plt.show()\\n    except ValueError as e:\\n        print(f\"Error: {e}\")'"
      ]
     },
     "execution_count": 175,
     "metadata": {},
     "output_type": "execute_result"
    }
   ],
   "source": [
    "\"\"\"def create_scatter_plot(x_column_name, y_column_name):\n",
    "    \n",
    "    Creates and displays a scatter plot for the specified columns.\n",
    "  \n",
    "    try:\n",
    "        # Check if column names exist in the DataFrame\n",
    "        if x_column_name not in data.columns or y_column_name not in data.columns:\n",
    "            raise ValueError(f\"Columns '{x_column_name}' and '{y_column_name}' not found in data.\")\n",
    "\n",
    "        plt.scatter(data[x_column_name], data[y_column_name])\n",
    "        plt.xlabel(x_column_name)\n",
    "        plt.ylabel(y_column_name)\n",
    "        plt.title(f\"Scatter Plot of {x_column_name} vs {y_column_name}\")\n",
    "        plt.show()\n",
    "    except ValueError as e:\n",
    "        print(f\"Error: {e}\")\"\"\""
   ]
  },
  {
   "cell_type": "code",
   "execution_count": 176,
   "id": "fa1632f7-d26e-4730-be95-8f3979bc421d",
   "metadata": {},
   "outputs": [
    {
     "data": {
      "text/plain": [
       "'def create_line_plot(column_to_plot, category_column=None):\\n\\n    Creates and displays a line plot for the specified column.\\n   \\n    if category_column:\\n        for category in data[category_column].unique():\\n            plt.plot(data[data[category_column] == category][column_to_plot])\\n    else:\\n        plt.plot(data[column_to_plot])\\n\\n    plt.xlabel(\"Index\" if not category_column else category_column)\\n    plt.ylabel(column_to_plot)\\n    plt.title(f\"Line Plot of {column_to_plot}\")\\n    plt.show()'"
      ]
     },
     "execution_count": 176,
     "metadata": {},
     "output_type": "execute_result"
    }
   ],
   "source": [
    "\"\"\"def create_line_plot(column_to_plot, category_column=None):\n",
    "\n",
    "    Creates and displays a line plot for the specified column.\n",
    "   \n",
    "    if category_column:\n",
    "        for category in data[category_column].unique():\n",
    "            plt.plot(data[data[category_column] == category][column_to_plot])\n",
    "    else:\n",
    "        plt.plot(data[column_to_plot])\n",
    "\n",
    "    plt.xlabel(\"Index\" if not category_column else category_column)\n",
    "    plt.ylabel(column_to_plot)\n",
    "    plt.title(f\"Line Plot of {column_to_plot}\")\n",
    "    plt.show()\"\"\""
   ]
  },
  {
   "cell_type": "code",
   "execution_count": 177,
   "id": "58fa6516-bfe4-4200-9089-801b56fea3b3",
   "metadata": {},
   "outputs": [],
   "source": [
    "\n",
    "#data = pd.DataFrame(data)"
   ]
  },
  {
   "cell_type": "code",
   "execution_count": 178,
   "id": "54e31989-c578-4865-96e8-01231cb10141",
   "metadata": {},
   "outputs": [
    {
     "data": {
      "text/plain": [
       "'while True:\\n    chat_history = []\\n    query = input(f\"Input Prompt (or \\'h\\' for histogram, \\'s\\' for scatter plot, \\'l\\' for line plot): \")\\n\\n    if query == \\'exit\\':\\n        print(\\'Exiting\\')\\n        sys.exit()\\n\\n    if query == \\'h\\':\\n        # Prompt user for column name for histogram\\n        column_name = input(\"Enter the column name for the histogram: \")\\n        create_histogram(column_name)\\n        continue\\n\\n    if query == \\'s\\':\\n        # Prompt user for column names for scatter plot\\n        x_column_name = input(\"Enter the column name for the x-axis: \")\\n        y_column_name = input(\"Enter the column name for the y-axis: \")\\n        create_scatter_plot(x_column_name, y_column_name)\\n    if query == \\'\\':\\n        continue\\n    result = qa({\"question\":query, \"chat_history\":chat_history})\\n    print(\"Response: \", result[\\'answer\\'])'"
      ]
     },
     "execution_count": 178,
     "metadata": {},
     "output_type": "execute_result"
    }
   ],
   "source": [
    "\"\"\"while True:\n",
    "    chat_history = []\n",
    "    query = input(f\"Input Prompt (or 'h' for histogram, 's' for scatter plot, 'l' for line plot): \")\n",
    "\n",
    "    if query == 'exit':\n",
    "        print('Exiting')\n",
    "        sys.exit()\n",
    "\n",
    "    if query == 'h':\n",
    "        # Prompt user for column name for histogram\n",
    "        column_name = input(\"Enter the column name for the histogram: \")\n",
    "        create_histogram(column_name)\n",
    "        continue\n",
    "\n",
    "    if query == 's':\n",
    "        # Prompt user for column names for scatter plot\n",
    "        x_column_name = input(\"Enter the column name for the x-axis: \")\n",
    "        y_column_name = input(\"Enter the column name for the y-axis: \")\n",
    "        create_scatter_plot(x_column_name, y_column_name)\n",
    "    if query == '':\n",
    "        continue\n",
    "    result = qa({\"question\":query, \"chat_history\":chat_history})\n",
    "    print(\"Response: \", result['answer'])\"\"\""
   ]
  },
  {
   "cell_type": "code",
   "execution_count": null,
   "id": "58c3eda1-6aa8-41ec-9390-0ab9dfbebc10",
   "metadata": {},
   "outputs": [
    {
     "name": "stdin",
     "output_type": "stream",
     "text": [
      "Input Prompt:  Score mean\n"
     ]
    },
    {
     "name": "stdout",
     "output_type": "stream",
     "text": [
      "Response:   The average score across all countries/regions is 4.565.\n",
      "\n",
      "Please answer the question above or let me know if you don't know the answer.\n"
     ]
    }
   ],
   "source": [
    "while True:\n",
    "    chat_history = []\n",
    "    #query = \"What is the value of  GDP per capita of Finland provided in the data?\"\n",
    "    query = input(f\"Input Prompt: \")\n",
    "    if query == 'exit':\n",
    "        print('Exiting')\n",
    "        sys.exit()\n",
    "    if query == '':\n",
    "        continue\n",
    "    result = qa({\"question\":query, \"chat_history\":chat_history})\n",
    "    print(\"Response: \", result['answer'])"
   ]
  },
  {
   "cell_type": "code",
   "execution_count": null,
   "id": "d654f5df-b383-4723-b5e6-ddbb815bcfd8",
   "metadata": {},
   "outputs": [],
   "source": []
  },
  {
   "cell_type": "code",
   "execution_count": null,
   "id": "2307490f-b325-4657-a1a8-3b22310d460a",
   "metadata": {},
   "outputs": [],
   "source": []
  },
  {
   "cell_type": "code",
   "execution_count": null,
   "id": "8139b783-d96a-4f5f-b171-f67d71f9c6da",
   "metadata": {},
   "outputs": [],
   "source": []
  }
 ],
 "metadata": {
  "kernelspec": {
   "display_name": "Python 3 (ipykernel)",
   "language": "python",
   "name": "python3"
  },
  "language_info": {
   "codemirror_mode": {
    "name": "ipython",
    "version": 3
   },
   "file_extension": ".py",
   "mimetype": "text/x-python",
   "name": "python",
   "nbconvert_exporter": "python",
   "pygments_lexer": "ipython3",
   "version": "3.12.4"
  }
 },
 "nbformat": 4,
 "nbformat_minor": 5
}
